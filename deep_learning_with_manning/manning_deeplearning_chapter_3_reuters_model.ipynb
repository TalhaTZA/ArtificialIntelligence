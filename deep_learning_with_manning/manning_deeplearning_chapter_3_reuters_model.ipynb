{
  "nbformat": 4,
  "nbformat_minor": 0,
  "metadata": {
    "colab": {
      "name": "manning_deeplearning_chapter_3_reuters_model",
      "version": "0.3.2",
      "views": {},
      "default_view": {},
      "provenance": [
        {
          "file_id": "/v2/external/notebooks/welcome.ipynb",
          "timestamp": 1528604122273
        }
      ],
      "collapsed_sections": []
    },
    "kernelspec": {
      "display_name": "Python 3",
      "name": "python3"
    }
  },
  "cells": [
    {
      "metadata": {
        "id": "GXlETQrq4HwH",
        "colab_type": "code",
        "colab": {
          "autoexec": {
            "startup": false,
            "wait_interval": 0
          },
          "base_uri": "https://localhost:8080/",
          "height": 68
        },
        "outputId": "92ead966-e3ae-4356-db2e-166e8e2d8e97",
        "executionInfo": {
          "status": "ok",
          "timestamp": 1533475208945,
          "user_tz": -300,
          "elapsed": 4552,
          "user": {
            "displayName": "talha ahmed",
            "photoUrl": "//lh6.googleusercontent.com/-Lq6VfnvipIM/AAAAAAAAAAI/AAAAAAAAASY/X7qwwY6Sg04/s50-c-k-no/photo.jpg",
            "userId": "100776727461063465391"
          }
        }
      },
      "cell_type": "code",
      "source": [
        "from keras.datasets import reuters\n",
        "(train_data, train_labels), (test_data, test_labels) = reuters.load_data(\n",
        "num_words=10000)"
      ],
      "execution_count": 1,
      "outputs": [
        {
          "output_type": "stream",
          "text": [
            "Using TensorFlow backend.\n"
          ],
          "name": "stderr"
        },
        {
          "output_type": "stream",
          "text": [
            "Downloading data from https://s3.amazonaws.com/text-datasets/reuters.npz\n",
            "2113536/2110848 [==============================] - 0s 0us/step\n"
          ],
          "name": "stdout"
        }
      ]
    },
    {
      "metadata": {
        "id": "0VtQ0-sA4Wkl",
        "colab_type": "code",
        "colab": {
          "autoexec": {
            "startup": false,
            "wait_interval": 0
          },
          "base_uri": "https://localhost:8080/",
          "height": 34
        },
        "outputId": "aef4ea34-45c2-4b79-923e-78598ccfcd99",
        "executionInfo": {
          "status": "ok",
          "timestamp": 1533475211044,
          "user_tz": -300,
          "elapsed": 1375,
          "user": {
            "displayName": "talha ahmed",
            "photoUrl": "//lh6.googleusercontent.com/-Lq6VfnvipIM/AAAAAAAAAAI/AAAAAAAAASY/X7qwwY6Sg04/s50-c-k-no/photo.jpg",
            "userId": "100776727461063465391"
          }
        }
      },
      "cell_type": "code",
      "source": [
        "len(train_data)"
      ],
      "execution_count": 2,
      "outputs": [
        {
          "output_type": "execute_result",
          "data": {
            "text/plain": [
              "8982"
            ]
          },
          "metadata": {
            "tags": []
          },
          "execution_count": 2
        }
      ]
    },
    {
      "metadata": {
        "id": "cL-7VA0sZxxB",
        "colab_type": "code",
        "colab": {
          "autoexec": {
            "startup": false,
            "wait_interval": 0
          },
          "base_uri": "https://localhost:8080/",
          "height": 34
        },
        "outputId": "2c3127f0-24ec-4447-c8b7-7d54242df45a",
        "executionInfo": {
          "status": "ok",
          "timestamp": 1533475214330,
          "user_tz": -300,
          "elapsed": 1280,
          "user": {
            "displayName": "talha ahmed",
            "photoUrl": "//lh6.googleusercontent.com/-Lq6VfnvipIM/AAAAAAAAAAI/AAAAAAAAASY/X7qwwY6Sg04/s50-c-k-no/photo.jpg",
            "userId": "100776727461063465391"
          }
        }
      },
      "cell_type": "code",
      "source": [
        "train_data.ndim"
      ],
      "execution_count": 3,
      "outputs": [
        {
          "output_type": "execute_result",
          "data": {
            "text/plain": [
              "1"
            ]
          },
          "metadata": {
            "tags": []
          },
          "execution_count": 3
        }
      ]
    },
    {
      "metadata": {
        "id": "46l6AQZF4ZhV",
        "colab_type": "code",
        "colab": {
          "autoexec": {
            "startup": false,
            "wait_interval": 0
          },
          "base_uri": "https://localhost:8080/",
          "height": 34
        },
        "outputId": "06028ec7-2202-44d2-f88a-34c17cdfe0a0",
        "executionInfo": {
          "status": "ok",
          "timestamp": 1533475215870,
          "user_tz": -300,
          "elapsed": 978,
          "user": {
            "displayName": "talha ahmed",
            "photoUrl": "//lh6.googleusercontent.com/-Lq6VfnvipIM/AAAAAAAAAAI/AAAAAAAAASY/X7qwwY6Sg04/s50-c-k-no/photo.jpg",
            "userId": "100776727461063465391"
          }
        }
      },
      "cell_type": "code",
      "source": [
        " len(test_data)"
      ],
      "execution_count": 4,
      "outputs": [
        {
          "output_type": "execute_result",
          "data": {
            "text/plain": [
              "2246"
            ]
          },
          "metadata": {
            "tags": []
          },
          "execution_count": 4
        }
      ]
    },
    {
      "metadata": {
        "id": "tQaomE4l4cpO",
        "colab_type": "code",
        "colab": {
          "autoexec": {
            "startup": false,
            "wait_interval": 0
          },
          "base_uri": "https://localhost:8080/",
          "height": 544
        },
        "outputId": "05eeddef-be78-447b-868e-a1c646c736ad",
        "executionInfo": {
          "status": "ok",
          "timestamp": 1533475217407,
          "user_tz": -300,
          "elapsed": 938,
          "user": {
            "displayName": "talha ahmed",
            "photoUrl": "//lh6.googleusercontent.com/-Lq6VfnvipIM/AAAAAAAAAAI/AAAAAAAAASY/X7qwwY6Sg04/s50-c-k-no/photo.jpg",
            "userId": "100776727461063465391"
          }
        }
      },
      "cell_type": "code",
      "source": [
        "train_data[10]"
      ],
      "execution_count": 5,
      "outputs": [
        {
          "output_type": "execute_result",
          "data": {
            "text/plain": [
              "[1,\n",
              " 245,\n",
              " 273,\n",
              " 207,\n",
              " 156,\n",
              " 53,\n",
              " 74,\n",
              " 160,\n",
              " 26,\n",
              " 14,\n",
              " 46,\n",
              " 296,\n",
              " 26,\n",
              " 39,\n",
              " 74,\n",
              " 2979,\n",
              " 3554,\n",
              " 14,\n",
              " 46,\n",
              " 4689,\n",
              " 4329,\n",
              " 86,\n",
              " 61,\n",
              " 3499,\n",
              " 4795,\n",
              " 14,\n",
              " 61,\n",
              " 451,\n",
              " 4329,\n",
              " 17,\n",
              " 12]"
            ]
          },
          "metadata": {
            "tags": []
          },
          "execution_count": 5
        }
      ]
    },
    {
      "metadata": {
        "id": "OGipD3uY4i-9",
        "colab_type": "code",
        "colab": {
          "autoexec": {
            "startup": false,
            "wait_interval": 0
          },
          "base_uri": "https://localhost:8080/",
          "height": 51
        },
        "outputId": "380d81c3-24ac-4d54-df68-0f9302089173",
        "executionInfo": {
          "status": "ok",
          "timestamp": 1533475220663,
          "user_tz": -300,
          "elapsed": 1901,
          "user": {
            "displayName": "talha ahmed",
            "photoUrl": "//lh6.googleusercontent.com/-Lq6VfnvipIM/AAAAAAAAAAI/AAAAAAAAASY/X7qwwY6Sg04/s50-c-k-no/photo.jpg",
            "userId": "100776727461063465391"
          }
        }
      },
      "cell_type": "code",
      "source": [
        "word_index = reuters.get_word_index()\n",
        "reverse_word_index = dict([(value, key) for (key, value) in word_index.items()])\n",
        "decoded_newswire = ' '.join([reverse_word_index.get(i - 3, '?') for i in\n",
        "train_data[0]])"
      ],
      "execution_count": 6,
      "outputs": [
        {
          "output_type": "stream",
          "text": [
            "Downloading data from https://s3.amazonaws.com/text-datasets/reuters_word_index.json\n",
            "557056/550378 [==============================] - 0s 0us/step\n"
          ],
          "name": "stdout"
        }
      ]
    },
    {
      "metadata": {
        "id": "BgIM_SlR4uFj",
        "colab_type": "code",
        "colab": {
          "autoexec": {
            "startup": false,
            "wait_interval": 0
          },
          "base_uri": "https://localhost:8080/",
          "height": 34
        },
        "outputId": "52ac28a2-2c60-4ae9-fde9-0437cb904a37",
        "executionInfo": {
          "status": "ok",
          "timestamp": 1533475222214,
          "user_tz": -300,
          "elapsed": 766,
          "user": {
            "displayName": "talha ahmed",
            "photoUrl": "//lh6.googleusercontent.com/-Lq6VfnvipIM/AAAAAAAAAAI/AAAAAAAAASY/X7qwwY6Sg04/s50-c-k-no/photo.jpg",
            "userId": "100776727461063465391"
          }
        }
      },
      "cell_type": "code",
      "source": [
        "train_labels[10]"
      ],
      "execution_count": 7,
      "outputs": [
        {
          "output_type": "execute_result",
          "data": {
            "text/plain": [
              "3"
            ]
          },
          "metadata": {
            "tags": []
          },
          "execution_count": 7
        }
      ]
    },
    {
      "metadata": {
        "id": "FONJ1tHt4vzB",
        "colab_type": "code",
        "colab": {
          "autoexec": {
            "startup": false,
            "wait_interval": 0
          }
        }
      },
      "cell_type": "code",
      "source": [
        "import numpy as np\n",
        "def vectorize_sequences(sequences, dimension=10000):\n",
        "  results = np.zeros((len(sequences), dimension))\n",
        "  for i, sequence in enumerate(sequences):\n",
        "    results[i, sequence] = 1.\n",
        "  return results\n",
        "x_train = vectorize_sequences(train_data)\n",
        "x_test = vectorize_sequences(test_data)\n"
      ],
      "execution_count": 0,
      "outputs": []
    },
    {
      "metadata": {
        "id": "D6XbvI74ag2d",
        "colab_type": "code",
        "colab": {
          "autoexec": {
            "startup": false,
            "wait_interval": 0
          },
          "base_uri": "https://localhost:8080/",
          "height": 34
        },
        "outputId": "48880e2c-e438-4390-c041-678388f8fd48",
        "executionInfo": {
          "status": "ok",
          "timestamp": 1533475227224,
          "user_tz": -300,
          "elapsed": 943,
          "user": {
            "displayName": "talha ahmed",
            "photoUrl": "//lh6.googleusercontent.com/-Lq6VfnvipIM/AAAAAAAAAAI/AAAAAAAAASY/X7qwwY6Sg04/s50-c-k-no/photo.jpg",
            "userId": "100776727461063465391"
          }
        }
      },
      "cell_type": "code",
      "source": [
        "print(x_train.shape)"
      ],
      "execution_count": 9,
      "outputs": [
        {
          "output_type": "stream",
          "text": [
            "(8982, 10000)\n"
          ],
          "name": "stdout"
        }
      ]
    },
    {
      "metadata": {
        "id": "dr-EMmks48d3",
        "colab_type": "code",
        "colab": {
          "autoexec": {
            "startup": false,
            "wait_interval": 0
          }
        }
      },
      "cell_type": "code",
      "source": [
        "def to_one_hot(labels, dimension=46):\n",
        "  results = np.zeros((len(labels), dimension))\n",
        "  for i, label in enumerate(labels):\n",
        "    results[i, label] = 1.\n",
        "  return results\n",
        "one_hot_train_labels = to_one_hot(train_labels)\n",
        "one_hot_test_labels = to_one_hot(test_labels)"
      ],
      "execution_count": 0,
      "outputs": []
    },
    {
      "metadata": {
        "id": "MOCNDNVhcWKf",
        "colab_type": "code",
        "colab": {
          "autoexec": {
            "startup": false,
            "wait_interval": 0
          },
          "base_uri": "https://localhost:8080/",
          "height": 34
        },
        "outputId": "c21a65c8-3d00-445d-f064-3a5d63f67567",
        "executionInfo": {
          "status": "ok",
          "timestamp": 1533475230901,
          "user_tz": -300,
          "elapsed": 1385,
          "user": {
            "displayName": "talha ahmed",
            "photoUrl": "//lh6.googleusercontent.com/-Lq6VfnvipIM/AAAAAAAAAAI/AAAAAAAAASY/X7qwwY6Sg04/s50-c-k-no/photo.jpg",
            "userId": "100776727461063465391"
          }
        }
      },
      "cell_type": "code",
      "source": [
        "one_hot_train_labels.shape"
      ],
      "execution_count": 11,
      "outputs": [
        {
          "output_type": "execute_result",
          "data": {
            "text/plain": [
              "(8982, 46)"
            ]
          },
          "metadata": {
            "tags": []
          },
          "execution_count": 11
        }
      ]
    },
    {
      "metadata": {
        "id": "up2cYohr5D-x",
        "colab_type": "code",
        "colab": {
          "autoexec": {
            "startup": false,
            "wait_interval": 0
          }
        }
      },
      "cell_type": "code",
      "source": [
        "from keras import models\n",
        "from keras import layers\n",
        "model = models.Sequential()\n",
        "model.add(layers.Dense(64, activation='relu', input_shape=(10000,)))\n",
        "model.add(layers.Dense(64, activation='relu'))\n",
        "model.add(layers.Dense(46, activation='softmax'))"
      ],
      "execution_count": 0,
      "outputs": []
    },
    {
      "metadata": {
        "id": "zQ-jBvfm5I2D",
        "colab_type": "code",
        "colab": {
          "autoexec": {
            "startup": false,
            "wait_interval": 0
          }
        }
      },
      "cell_type": "code",
      "source": [
        "model.compile(optimizer='rmsprop',\n",
        "loss='categorical_crossentropy',\n",
        "metrics=['accuracy'])\n"
      ],
      "execution_count": 0,
      "outputs": []
    },
    {
      "metadata": {
        "id": "JG_O4pB-5MPz",
        "colab_type": "code",
        "colab": {
          "autoexec": {
            "startup": false,
            "wait_interval": 0
          }
        }
      },
      "cell_type": "code",
      "source": [
        "x_val = x_train[:1000]\n",
        "partial_x_train = x_train[1000:]\n",
        "y_val = one_hot_train_labels[:1000]\n",
        "partial_y_train = one_hot_train_labels[1000:]"
      ],
      "execution_count": 0,
      "outputs": []
    },
    {
      "metadata": {
        "id": "SF52nAKi5Piy",
        "colab_type": "code",
        "colab": {
          "autoexec": {
            "startup": false,
            "wait_interval": 0
          },
          "base_uri": "https://localhost:8080/",
          "height": 734
        },
        "outputId": "39973deb-b0be-4fe9-cded-59aea90a8113",
        "executionInfo": {
          "status": "ok",
          "timestamp": 1533475264562,
          "user_tz": -300,
          "elapsed": 26447,
          "user": {
            "displayName": "talha ahmed",
            "photoUrl": "//lh6.googleusercontent.com/-Lq6VfnvipIM/AAAAAAAAAAI/AAAAAAAAASY/X7qwwY6Sg04/s50-c-k-no/photo.jpg",
            "userId": "100776727461063465391"
          }
        }
      },
      "cell_type": "code",
      "source": [
        "history = model.fit(partial_x_train,\n",
        "partial_y_train,\n",
        "epochs=20,\n",
        "batch_size=512,\n",
        "validation_data=(x_val, y_val))"
      ],
      "execution_count": 15,
      "outputs": [
        {
          "output_type": "stream",
          "text": [
            "Train on 7982 samples, validate on 1000 samples\n",
            "Epoch 1/20\n",
            "7982/7982 [==============================] - 1s 180us/step - loss: 2.5315 - acc: 0.4955 - val_loss: 1.7206 - val_acc: 0.6120\n",
            "Epoch 2/20\n",
            "7982/7982 [==============================] - 1s 155us/step - loss: 1.4456 - acc: 0.6885 - val_loss: 1.3465 - val_acc: 0.7070\n",
            "Epoch 3/20\n",
            "7982/7982 [==============================] - 1s 159us/step - loss: 1.0961 - acc: 0.7650 - val_loss: 1.1720 - val_acc: 0.7440\n",
            "Epoch 4/20\n",
            "7982/7982 [==============================] - 1s 154us/step - loss: 0.8706 - acc: 0.8155 - val_loss: 1.0766 - val_acc: 0.7580\n",
            "Epoch 5/20\n",
            "7982/7982 [==============================] - 1s 156us/step - loss: 0.7042 - acc: 0.8477 - val_loss: 0.9854 - val_acc: 0.7810\n",
            "Epoch 6/20\n",
            "7982/7982 [==============================] - 1s 159us/step - loss: 0.5685 - acc: 0.8792 - val_loss: 0.9404 - val_acc: 0.8020\n",
            "Epoch 7/20\n",
            "7982/7982 [==============================] - 1s 160us/step - loss: 0.4611 - acc: 0.9034 - val_loss: 0.9089 - val_acc: 0.8000\n",
            "Epoch 8/20\n",
            "7982/7982 [==============================] - 1s 161us/step - loss: 0.3725 - acc: 0.9212 - val_loss: 0.9354 - val_acc: 0.7900\n",
            "Epoch 9/20\n",
            "6144/7982 [======================>.......] - ETA: 0s - loss: 0.3060 - acc: 0.9312"
          ],
          "name": "stdout"
        },
        {
          "output_type": "stream",
          "text": [
            "7982/7982 [==============================] - 1s 152us/step - loss: 0.3046 - acc: 0.9313 - val_loss: 0.8917 - val_acc: 0.8040\n",
            "Epoch 10/20\n",
            "7982/7982 [==============================] - 1s 149us/step - loss: 0.2548 - acc: 0.9416 - val_loss: 0.9060 - val_acc: 0.8140\n",
            "Epoch 11/20\n",
            "7982/7982 [==============================] - 1s 147us/step - loss: 0.2188 - acc: 0.9469 - val_loss: 0.9175 - val_acc: 0.8130\n",
            "Epoch 12/20\n",
            "7982/7982 [==============================] - 1s 148us/step - loss: 0.1874 - acc: 0.9510 - val_loss: 0.9072 - val_acc: 0.8120\n",
            "Epoch 13/20\n",
            "7982/7982 [==============================] - 1s 155us/step - loss: 0.1702 - acc: 0.9519 - val_loss: 0.9310 - val_acc: 0.8110\n",
            "Epoch 14/20\n",
            "7982/7982 [==============================] - 1s 160us/step - loss: 0.1535 - acc: 0.9557 - val_loss: 0.9675 - val_acc: 0.8070\n",
            "Epoch 15/20\n",
            "7982/7982 [==============================] - 1s 158us/step - loss: 0.1389 - acc: 0.9562 - val_loss: 0.9680 - val_acc: 0.8130\n",
            "Epoch 16/20\n",
            "7982/7982 [==============================] - 1s 157us/step - loss: 0.1314 - acc: 0.9559 - val_loss: 1.0241 - val_acc: 0.8060\n",
            "Epoch 17/20\n",
            "7982/7982 [==============================] - 1s 158us/step - loss: 0.1222 - acc: 0.9579 - val_loss: 1.0243 - val_acc: 0.7970\n",
            "Epoch 18/20\n",
            "1024/7982 [==>...........................] - ETA: 1s - loss: 0.1310 - acc: 0.9570"
          ],
          "name": "stdout"
        },
        {
          "output_type": "stream",
          "text": [
            "7982/7982 [==============================] - 1s 160us/step - loss: 0.1198 - acc: 0.9579 - val_loss: 1.0390 - val_acc: 0.8060\n",
            "Epoch 19/20\n",
            "7982/7982 [==============================] - 1s 160us/step - loss: 0.1139 - acc: 0.9595 - val_loss: 1.0964 - val_acc: 0.7980\n",
            "Epoch 20/20\n",
            "7982/7982 [==============================] - 1s 160us/step - loss: 0.1113 - acc: 0.9593 - val_loss: 1.0653 - val_acc: 0.8020\n"
          ],
          "name": "stdout"
        }
      ]
    },
    {
      "metadata": {
        "id": "7TCFtE3-5XJL",
        "colab_type": "code",
        "colab": {
          "autoexec": {
            "startup": false,
            "wait_interval": 0
          },
          "base_uri": "https://localhost:8080/",
          "height": 376
        },
        "outputId": "f1f3c21d-d6ae-4732-8262-dce3435e8901",
        "executionInfo": {
          "status": "ok",
          "timestamp": 1533475275242,
          "user_tz": -300,
          "elapsed": 1382,
          "user": {
            "displayName": "talha ahmed",
            "photoUrl": "//lh6.googleusercontent.com/-Lq6VfnvipIM/AAAAAAAAAAI/AAAAAAAAASY/X7qwwY6Sg04/s50-c-k-no/photo.jpg",
            "userId": "100776727461063465391"
          }
        }
      },
      "cell_type": "code",
      "source": [
        "import matplotlib.pyplot as plt\n",
        "loss = history.history['loss']\n",
        "val_loss = history.history['val_loss']\n",
        "epochs = range(1, len(loss) + 1)\n",
        "plt.plot(epochs, loss, 'bo', label='Training loss')\n",
        "plt.plot(epochs, val_loss, 'b', label='Validation loss')\n",
        "plt.title('Training and validation loss')\n",
        "plt.xlabel('Epochs')\n",
        "plt.ylabel('Loss')\n",
        "plt.legend()\n",
        "plt.show()"
      ],
      "execution_count": 16,
      "outputs": [
        {
          "output_type": "display_data",
          "data": {
            "image/png": "[encoded data removed]",
            "text/plain": [
              "<matplotlib.figure.Figure at 0x7ff502debef0>"
            ]
          },
          "metadata": {
            "tags": []
          }
        }
      ]
    },
    {
      "metadata": {
        "id": "LYtoHTGm5bEb",
        "colab_type": "code",
        "colab": {
          "autoexec": {
            "startup": false,
            "wait_interval": 0
          },
          "base_uri": "https://localhost:8080/",
          "height": 376
        },
        "outputId": "2d7461bc-dd4a-4794-cc63-0df714bc51ef",
        "executionInfo": {
          "status": "ok",
          "timestamp": 1533475280603,
          "user_tz": -300,
          "elapsed": 3757,
          "user": {
            "displayName": "talha ahmed",
            "photoUrl": "//lh6.googleusercontent.com/-Lq6VfnvipIM/AAAAAAAAAAI/AAAAAAAAASY/X7qwwY6Sg04/s50-c-k-no/photo.jpg",
            "userId": "100776727461063465391"
          }
        }
      },
      "cell_type": "code",
      "source": [
        "plt.clf()\n",
        "acc = history.history['acc']\n",
        "val_acc = history.history['val_acc']\n",
        "plt.plot(epochs, acc, 'bo', label='Training acc')\n",
        "plt.plot(epochs, val_acc, 'b', label='Validation acc')\n",
        "plt.title('Training and validation accuracy')\n",
        "plt.xlabel('Epochs')\n",
        "plt.ylabel('Loss')\n",
        "plt.legend()\n",
        "plt.show()"
      ],
      "execution_count": 17,
      "outputs": [
        {
          "output_type": "display_data",
          "data": {
            "image/png": "[encoded data removed]",
            "text/plain": [
              "<matplotlib.figure.Figure at 0x7ff502f4d630>"
            ]
          },
          "metadata": {
            "tags": []
          }
        }
      ]
    },
    {
      "metadata": {
        "id": "zddEs1QH5goP",
        "colab_type": "code",
        "colab": {
          "autoexec": {
            "startup": false,
            "wait_interval": 0
          },
          "base_uri": "https://localhost:8080/",
          "height": 377
        },
        "outputId": "38cdfd79-e594-46a3-ac7a-50fe25517422",
        "executionInfo": {
          "status": "ok",
          "timestamp": 1533475319697,
          "user_tz": -300,
          "elapsed": 13266,
          "user": {
            "displayName": "talha ahmed",
            "photoUrl": "//lh6.googleusercontent.com/-Lq6VfnvipIM/AAAAAAAAAAI/AAAAAAAAASY/X7qwwY6Sg04/s50-c-k-no/photo.jpg",
            "userId": "100776727461063465391"
          }
        }
      },
      "cell_type": "code",
      "source": [
        "model = models.Sequential()\n",
        "model.add(layers.Dense(64, activation='relu', input_shape=(10000,)))\n",
        "model.add(layers.Dense(64, activation='relu'))\n",
        "model.add(layers.Dense(46, activation='softmax'))\n",
        "model.compile(optimizer='rmsprop',\n",
        "loss='categorical_crossentropy',\n",
        "metrics=['accuracy'])\n",
        "model.fit(partial_x_train,\n",
        "partial_y_train,\n",
        "epochs=9,\n",
        "batch_size=512,\n",
        "validation_data=(x_val, y_val))\n",
        "results = model.evaluate(x_test, one_hot_test_labels)\n",
        "predict=model.predict(x_test)"
      ],
      "execution_count": 18,
      "outputs": [
        {
          "output_type": "stream",
          "text": [
            "Train on 7982 samples, validate on 1000 samples\n",
            "Epoch 1/9\n",
            "7982/7982 [==============================] - 1s 186us/step - loss: 2.5312 - acc: 0.5237 - val_loss: 1.6799 - val_acc: 0.6550\n",
            "Epoch 2/9\n",
            "7982/7982 [==============================] - 1s 160us/step - loss: 1.3719 - acc: 0.7124 - val_loss: 1.2796 - val_acc: 0.7240\n",
            "Epoch 3/9\n",
            "7982/7982 [==============================] - 1s 157us/step - loss: 1.0146 - acc: 0.7803 - val_loss: 1.1364 - val_acc: 0.7510\n",
            "Epoch 4/9\n",
            "7982/7982 [==============================] - 1s 155us/step - loss: 0.7991 - acc: 0.8246 - val_loss: 1.0542 - val_acc: 0.7570\n",
            "Epoch 5/9\n",
            "7982/7982 [==============================] - 1s 147us/step - loss: 0.6404 - acc: 0.8622 - val_loss: 0.9738 - val_acc: 0.7960\n",
            "Epoch 6/9\n",
            "7982/7982 [==============================] - 1s 148us/step - loss: 0.5120 - acc: 0.8924 - val_loss: 0.9099 - val_acc: 0.8140\n",
            "Epoch 7/9\n",
            "7982/7982 [==============================] - 1s 147us/step - loss: 0.4118 - acc: 0.9148 - val_loss: 0.8937 - val_acc: 0.8220\n",
            "Epoch 8/9\n",
            "7982/7982 [==============================] - 1s 150us/step - loss: 0.3357 - acc: 0.9288 - val_loss: 0.8732 - val_acc: 0.8250\n",
            "Epoch 9/9\n",
            "6656/7982 [========================>.....] - ETA: 0s - loss: 0.2763 - acc: 0.9372"
          ],
          "name": "stdout"
        },
        {
          "output_type": "stream",
          "text": [
            "7982/7982 [==============================] - 1s 175us/step - loss: 0.2788 - acc: 0.9370 - val_loss: 0.9341 - val_acc: 0.8020\n",
            "2246/2246 [==============================] - 0s 182us/step\n"
          ],
          "name": "stdout"
        }
      ]
    },
    {
      "metadata": {
        "id": "rqYJxW3s50yZ",
        "colab_type": "code",
        "colab": {
          "autoexec": {
            "startup": false,
            "wait_interval": 0
          },
          "base_uri": "https://localhost:8080/",
          "height": 34
        },
        "outputId": "335dd845-2c1c-4227-c5cd-7603cdf8f257",
        "executionInfo": {
          "status": "ok",
          "timestamp": 1533475326612,
          "user_tz": -300,
          "elapsed": 1310,
          "user": {
            "displayName": "talha ahmed",
            "photoUrl": "//lh6.googleusercontent.com/-Lq6VfnvipIM/AAAAAAAAAAI/AAAAAAAAASY/X7qwwY6Sg04/s50-c-k-no/photo.jpg",
            "userId": "100776727461063465391"
          }
        }
      },
      "cell_type": "code",
      "source": [
        "results"
      ],
      "execution_count": 19,
      "outputs": [
        {
          "output_type": "execute_result",
          "data": {
            "text/plain": [
              "[1.0201264998791797, 0.7773820125196835]"
            ]
          },
          "metadata": {
            "tags": []
          },
          "execution_count": 19
        }
      ]
    },
    {
      "metadata": {
        "id": "CeckGFRGQIUG",
        "colab_type": "code",
        "colab": {
          "autoexec": {
            "startup": false,
            "wait_interval": 0
          },
          "base_uri": "https://localhost:8080/",
          "height": 34
        },
        "outputId": "67215349-ee94-4677-cf65-4491261432e7",
        "executionInfo": {
          "status": "ok",
          "timestamp": 1533475396367,
          "user_tz": -300,
          "elapsed": 1363,
          "user": {
            "displayName": "talha ahmed",
            "photoUrl": "//lh6.googleusercontent.com/-Lq6VfnvipIM/AAAAAAAAAAI/AAAAAAAAASY/X7qwwY6Sg04/s50-c-k-no/photo.jpg",
            "userId": "100776727461063465391"
          }
        }
      },
      "cell_type": "code",
      "source": [
        "np.argmax(predict[0])"
      ],
      "execution_count": 23,
      "outputs": [
        {
          "output_type": "execute_result",
          "data": {
            "text/plain": [
              "3"
            ]
          },
          "metadata": {
            "tags": []
          },
          "execution_count": 23
        }
      ]
    },
    {
      "metadata": {
        "id": "Kc_l6ZT7QJ9e",
        "colab_type": "code",
        "colab": {
          "autoexec": {
            "startup": false,
            "wait_interval": 0
          }
        }
      },
      "cell_type": "code",
      "source": [
        ""
      ],
      "execution_count": 0,
      "outputs": []
    }
  ]
}